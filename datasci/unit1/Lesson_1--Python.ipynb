{
 "cells": [
  {
   "cell_type": "markdown",
   "metadata": {},
   "source": [
    "##Lesson 1: Programming in python"
   ]
  },
  {
   "cell_type": "markdown",
   "metadata": {},
   "source": [
    "###1.2 Command Line"
   ]
  },
  {
   "cell_type": "markdown",
   "metadata": {},
   "source": [
    "####basic shell commands work in ipython!"
   ]
  },
  {
   "cell_type": "code",
   "execution_count": 2,
   "metadata": {
    "collapsed": false
   },
   "outputs": [
    {
     "data": {
      "text/plain": [
       "u'/Users/amyskerry/Documents/Projects/thinkful/datasci/unit1'"
      ]
     },
     "execution_count": 2,
     "metadata": {},
     "output_type": "execute_result"
    }
   ],
   "source": [
    "pwd"
   ]
  },
  {
   "cell_type": "code",
   "execution_count": 3,
   "metadata": {
    "collapsed": false
   },
   "outputs": [
    {
     "name": "stdout",
     "output_type": "stream",
     "text": [
      "Lesson_1--Python.ipynb   Lesson_3--SQL.ipynb      getting_started.db       national_population.csv\r\n"
     ]
    }
   ],
   "source": [
    "ls"
   ]
  },
  {
   "cell_type": "code",
   "execution_count": 4,
   "metadata": {
    "collapsed": true
   },
   "outputs": [],
   "source": [
    "mkdir temp"
   ]
  },
  {
   "cell_type": "code",
   "execution_count": 5,
   "metadata": {
    "collapsed": false
   },
   "outputs": [
    {
     "name": "stdout",
     "output_type": "stream",
     "text": [
      "Lesson_1--Python.ipynb   Lesson_3--SQL.ipynb      getting_started.db       national_population.csv  \u001b[34mtemp\u001b[m\u001b[m/\r\n"
     ]
    }
   ],
   "source": [
    "ls"
   ]
  },
  {
   "cell_type": "code",
   "execution_count": 6,
   "metadata": {
    "collapsed": true
   },
   "outputs": [],
   "source": [
    "rmdir temp"
   ]
  },
  {
   "cell_type": "code",
   "execution_count": 7,
   "metadata": {
    "collapsed": false
   },
   "outputs": [
    {
     "name": "stdout",
     "output_type": "stream",
     "text": [
      "Lesson_1--Python.ipynb   Lesson_3--SQL.ipynb      getting_started.db       national_population.csv\r\n"
     ]
    }
   ],
   "source": [
    "ls"
   ]
  },
  {
   "cell_type": "code",
   "execution_count": 8,
   "metadata": {
    "collapsed": false
   },
   "outputs": [
    {
     "name": "stdout",
     "output_type": "stream",
     "text": [
      "[Errno 2] No such file or directory: '../../../data'\n",
      "/Users/amyskerry/Documents/Projects/thinkful/datasci/unit1\n"
     ]
    }
   ],
   "source": [
    "cd \"../../../data\""
   ]
  },
  {
   "cell_type": "code",
   "execution_count": 9,
   "metadata": {
    "collapsed": false
   },
   "outputs": [
    {
     "name": "stdout",
     "output_type": "stream",
     "text": [
      "Lesson_1--Python.ipynb   Lesson_3--SQL.ipynb      getting_started.db       national_population.csv\r\n"
     ]
    }
   ],
   "source": [
    "ls"
   ]
  },
  {
   "cell_type": "code",
   "execution_count": 10,
   "metadata": {
    "collapsed": false
   },
   "outputs": [
    {
     "name": "stdout",
     "output_type": "stream",
     "text": [
      "/Users/amyskerry\n"
     ]
    }
   ],
   "source": [
    "cd ~"
   ]
  },
  {
   "cell_type": "code",
   "execution_count": 16,
   "metadata": {
    "collapsed": false
   },
   "outputs": [
    {
     "name": "stdout",
     "output_type": "stream",
     "text": [
      "/Users/amyskerry/Documents/Projects/thinkful/datasci/unit1\n"
     ]
    }
   ],
   "source": [
    "cd ~/documents/Projects/thinkful/datasci/unit1"
   ]
  },
  {
   "cell_type": "markdown",
   "metadata": {},
   "source": [
    "###1.5 Thinking like a coder"
   ]
  },
  {
   "cell_type": "markdown",
   "metadata": {},
   "source": [
    "####Defining functions"
   ]
  },
  {
   "cell_type": "code",
   "execution_count": 11,
   "metadata": {
    "collapsed": true
   },
   "outputs": [],
   "source": [
    "def addition(a, b):\n",
    "    \"\"\"Adds two numbers and prints the result\"\"\"\n",
    "    x = a + b\n",
    "    print x\n",
    "    return x"
   ]
  },
  {
   "cell_type": "markdown",
   "metadata": {},
   "source": [
    "####Logging"
   ]
  },
  {
   "cell_type": "code",
   "execution_count": 12,
   "metadata": {
    "collapsed": false
   },
   "outputs": [
    {
     "name": "stdout",
     "output_type": "stream",
     "text": [
      "Message logged: Adding 1 and 2 = 3.\n",
      "Message logged: Adding 2 and 3 = 5.\n",
      "Message logged: Adding 3 and 5 = 8.\n",
      "Message logged: Adding 5 and 8 = 13.\n"
     ]
    },
    {
     "data": {
      "text/plain": [
       "13"
      ]
     },
     "execution_count": 12,
     "metadata": {},
     "output_type": "execute_result"
    }
   ],
   "source": [
    "from datetime import datetime\n",
    "import logging\n",
    "def log_handler(msg):\n",
    "    \"\"\"Sends msg to the logging platform\"\"\"\n",
    "    date = str(datetime.now())\n",
    "    msg = date + \" - \" + msg\n",
    "    return logging.info(msg)\n",
    "\n",
    "def log(msg):\n",
    "    \"\"\"A convenience function. Adds msg to the logs with log_handler\"\"\"\n",
    "    msg = str(msg)\n",
    "    print(\"Message logged: \" + msg)\n",
    "    return log_handler(msg)\n",
    "\n",
    "def addition(a, b):\n",
    "    \"\"\"Adds two numbers and logs the result\"\"\"\n",
    "    x = a + b\n",
    "    log(\"Adding {0} and {1} = {2}.\".format(a, b, x))\n",
    "    return x\n",
    "\n",
    "addition(1, 2)\n",
    "addition(2, 3)\n",
    "addition(5, addition(3, 5))"
   ]
  },
  {
   "cell_type": "markdown",
   "metadata": {},
   "source": [
    "####Coding as instructions: Baking a Cake"
   ]
  },
  {
   "cell_type": "code",
   "execution_count": 13,
   "metadata": {
    "collapsed": false
   },
   "outputs": [
    {
     "name": "stdout",
     "output_type": "stream",
     "text": [
      "Melting butter.\n",
      "Adding butter to the bowl.\n",
      "Adding sugar to the bowl.\n",
      "Mixing ['butter', 'sugar'].\n",
      "Mixing ['butter', 'sugar'].\n",
      "Mixing ['butter', 'sugar'].\n",
      "Adding eggs to the bowl.\n",
      "Adding vanilla to the bowl.\n",
      "Mixing ['butter', 'sugar', 'eggs', 'vanilla'].\n",
      "Adding cocoa to the bowl.\n",
      "Adding flour to the bowl.\n",
      "Mixing ['butter', 'sugar', 'eggs', 'vanilla', 'cocoa', 'flour'].\n",
      "Mixing ['butter', 'sugar', 'eggs', 'vanilla', 'cocoa', 'flour'].\n",
      "Mixing ['butter', 'sugar', 'eggs', 'vanilla', 'cocoa', 'flour'].\n",
      "Mixing ['butter', 'sugar', 'eggs', 'vanilla', 'cocoa', 'flour'].\n",
      "Baking ['butter', 'sugar', 'eggs', 'vanilla', 'cocoa', 'flour'] at 350.\n",
      "Baking ['butter', 'sugar', 'eggs', 'vanilla', 'cocoa', 'flour'] at 350.\n",
      "Baking ['butter', 'sugar', 'eggs', 'vanilla', 'cocoa', 'flour'] at 350.\n",
      "Baking ['butter', 'sugar', 'eggs', 'vanilla', 'cocoa', 'flour'] at 350.\n",
      "Baking ['butter', 'sugar', 'eggs', 'vanilla', 'cocoa', 'flour'] at 350.\n",
      "Baking ['butter', 'sugar', 'eggs', 'vanilla', 'cocoa', 'flour'] at 350.\n",
      "Baking ['butter', 'sugar', 'eggs', 'vanilla', 'cocoa', 'flour'] at 350.\n",
      "Baking ['butter', 'sugar', 'eggs', 'vanilla', 'cocoa', 'flour'] at 350.\n",
      "Baking ['butter', 'sugar', 'eggs', 'vanilla', 'cocoa', 'flour'] at 350.\n",
      "Baking ['butter', 'sugar', 'eggs', 'vanilla', 'cocoa', 'flour'] at 350.\n",
      "Baking ['butter', 'sugar', 'eggs', 'vanilla', 'cocoa', 'flour'] at 350.\n",
      "Baking ['butter', 'sugar', 'eggs', 'vanilla', 'cocoa', 'flour'] at 350.\n",
      "Baking ['butter', 'sugar', 'eggs', 'vanilla', 'cocoa', 'flour'] at 350.\n",
      "Baking ['butter', 'sugar', 'eggs', 'vanilla', 'cocoa', 'flour'] at 350.\n",
      "Baking ['butter', 'sugar', 'eggs', 'vanilla', 'cocoa', 'flour'] at 350.\n",
      "Baking ['butter', 'sugar', 'eggs', 'vanilla', 'cocoa', 'flour'] at 350.\n",
      "Baking ['butter', 'sugar', 'eggs', 'vanilla', 'cocoa', 'flour'] at 350.\n",
      "Baking ['butter', 'sugar', 'eggs', 'vanilla', 'cocoa', 'flour'] at 350.\n",
      "Baking ['butter', 'sugar', 'eggs', 'vanilla', 'cocoa', 'flour'] at 350.\n",
      "Baking ['butter', 'sugar', 'eggs', 'vanilla', 'cocoa', 'flour'] at 350.\n",
      "Baking ['butter', 'sugar', 'eggs', 'vanilla', 'cocoa', 'flour'] at 350.\n",
      "Baking ['butter', 'sugar', 'eggs', 'vanilla', 'cocoa', 'flour'] at 350.\n",
      "Baking ['butter', 'sugar', 'eggs', 'vanilla', 'cocoa', 'flour'] at 350.\n",
      "Baking ['butter', 'sugar', 'eggs', 'vanilla', 'cocoa', 'flour'] at 350.\n",
      "Baking ['butter', 'sugar', 'eggs', 'vanilla', 'cocoa', 'flour'] at 350.\n",
      "Baking ['butter', 'sugar', 'eggs', 'vanilla', 'cocoa', 'flour'] at 350.\n",
      "Baking ['butter', 'sugar', 'eggs', 'vanilla', 'cocoa', 'flour'] at 350.\n",
      "Baking ['butter', 'sugar', 'eggs', 'vanilla', 'cocoa', 'flour'] at 350.\n",
      "Baking ['butter', 'sugar', 'eggs', 'vanilla', 'cocoa', 'flour'] at 350.\n",
      "Baking ['butter', 'sugar', 'eggs', 'vanilla', 'cocoa', 'flour'] at 350.\n",
      "Cake is done!\n"
     ]
    }
   ],
   "source": [
    "# Ingredients are stored as a dictionary of tuples. Each tuple contains the name\n",
    "# of the ingredients and the amount in milliliters (unless otherwise specified)\n",
    "# Why a dictionary of tuples? Because it is kinda convenient, and shows off how to\n",
    "# combine multiple data structures.\n",
    "ingredients = {\n",
    "    \"butter\"  : (\"butter\", 118.3),\n",
    "    \"sugar\"   : (\"sugar\", 236.6),\n",
    "    \"vanilla\" : (\"vanilla\", 4.929),\n",
    "    \"eggs\"    : (\"eggs\", 2), # whole eggs\n",
    "    \"cocoa\"   : (\"cocoa\", 118.3),\n",
    "    \"flour\"   : (\"flour\", 118.3)\n",
    "}\n",
    "\n",
    "# The butter was refrigerated, so it's not soft yet.\n",
    "butter_soft = False\n",
    "\n",
    "bowl = []\n",
    "\n",
    "# To make the cake, we'll need the following functions\n",
    "def melt(this):\n",
    "    print(\"Melting {0}.\".format(this))\n",
    "\n",
    "def bake(this, temp):\n",
    "    print(\"Baking {0} at {1}.\".format(this, temp))\n",
    "\n",
    "def mix(this):\n",
    "    print(\"Mixing {0}.\".format(this))\n",
    "\n",
    "def add_to_bowl(ingredient):\n",
    "    print(\"Adding {0} to the bowl.\".format(ingredient))\n",
    "    return bowl.append(ingredient)\n",
    "\n",
    "\n",
    "##### Start the algorithm! #####\n",
    "\n",
    "if butter_soft != True:\n",
    "    melt(ingredients[\"butter\"][0])\n",
    "    butter_soft = True\n",
    "\n",
    "add_to_bowl(ingredients[\"butter\"][0])\n",
    "add_to_bowl(ingredients[\"sugar\"][0])\n",
    "\n",
    "mixing_time = 0\n",
    "mixture_creamy = False\n",
    "\n",
    "# Mix until creamy\n",
    "while mixture_creamy == False:\n",
    "    mix(bowl)\n",
    "    mixing_time += 1\n",
    "    if mixing_time == 3:\n",
    "        # After 3 minutes, the mixture will be creamy,\n",
    "        # and our while loop will stop\n",
    "        mixture_creamy = True\n",
    "\n",
    "add_to_bowl(ingredients[\"eggs\"][0])\n",
    "add_to_bowl(ingredients[\"vanilla\"][0])\n",
    "\n",
    "mix(bowl)\n",
    "\n",
    "add_to_bowl(ingredients[\"cocoa\"][0])\n",
    "add_to_bowl(ingredients[\"flour\"][0])\n",
    "\n",
    "mixing_time = 0\n",
    "well_blended = False\n",
    "\n",
    "# Mix until well-blended\n",
    "while well_blended == False:\n",
    "    mix(bowl)\n",
    "    mixing_time += 1\n",
    "    if mixing_time == 4:\n",
    "        well_blended = True\n",
    "\n",
    "# In cooking terms: pour contents of the bowl into a cake pan\n",
    "# In Python terms: redefine the bowl variable as cake_pan\n",
    "cake_pan = bowl\n",
    "\n",
    "cooking_temp = 350\n",
    "cooking_time = 30\n",
    "\n",
    "for minute in range(0, cooking_time):\n",
    "    bake(cake_pan, cooking_temp)\n",
    "\n",
    "print(\"Cake is done!\")"
   ]
  },
  {
   "cell_type": "markdown",
   "metadata": {},
   "source": [
    "####Recursion"
   ]
  },
  {
   "cell_type": "code",
   "execution_count": 14,
   "metadata": {
    "collapsed": true
   },
   "outputs": [],
   "source": [
    "#Fibonacci \n",
    "def F(n):\n",
    "    if n < 2:\n",
    "        return n\n",
    "    else:\n",
    "        return F(n-2) + F(n-1)"
   ]
  },
  {
   "cell_type": "markdown",
   "metadata": {},
   "source": [
    "###1.6 Reading/Writing Files"
   ]
  },
  {
   "cell_type": "code",
   "execution_count": null,
   "metadata": {
    "collapsed": true
   },
   "outputs": [],
   "source": []
  },
  {
   "cell_type": "code",
   "execution_count": 17,
   "metadata": {
    "collapsed": false
   },
   "outputs": [
    {
     "name": "stdout",
     "output_type": "stream",
     "text": [
      "Africa: 573918429 \n",
      "Africa: 327611385 \n",
      "Asia: 2345920129 \n",
      "Asia: 1720930281 \n",
      "Oceania: 14024049 \n",
      "Oceania: 23152802 \n",
      "Europe: 223529720 \n",
      "Europe: 481254575 \n",
      "North America: 136724785 \n",
      "North America: 368856952 \n",
      "South America: 140056209 \n",
      "South America: 239968353 \n"
     ]
    }
   ],
   "source": [
    "import os\n",
    "import collections\n",
    "population_dict = collections.defaultdict(int)\n",
    "with open(os.path.join('../../data/landarea', 'lecz-urban-rural-population-land-area-estimates_continent-90m.csv'),'rU') as inputfile:\n",
    "    header = next(inputfile)\n",
    "    for line in inputfile:\n",
    "        line = line.rstrip().split(',')\n",
    "        line[5] = int(line[5])\n",
    "        if line[1] == 'Total National Population':\n",
    "            print \"{0}: {1} \".format(line[0], line[5])\n",
    "            population_dict[line[0]]+=line[5]"
   ]
  },
  {
   "cell_type": "code",
   "execution_count": 18,
   "metadata": {
    "collapsed": true
   },
   "outputs": [],
   "source": [
    "with open('national_population.csv', 'w') as outputFile:\n",
    "    outputFile.write('continent,2010_population\\n')\n",
    "    for k,v in population_dict.iteritems():\n",
    "        outputFile.write(k + ',' + str(v) + '\\n')"
   ]
  },
  {
   "cell_type": "markdown",
   "metadata": {},
   "source": [
    "####Challenges:"
   ]
  },
  {
   "cell_type": "markdown",
   "metadata": {},
   "source": [
    "1) The data world is now your oyster. Play with some of the other population data and see what you come up with. Try and calculate the population change between 2010 and 2100. Remember the lesson about doing integer divison. Convert one of the numbers to floating point decimal by using the float() function. Which continent is estimated to grow the most in the next 90 years?"
   ]
  },
  {
   "cell_type": "code",
   "execution_count": 36,
   "metadata": {
    "collapsed": false
   },
   "outputs": [
    {
     "name": "stdout",
     "output_type": "stream",
     "text": [
      "percent increase from 2010 to 2100\n",
      "Europe: -37.2%\n",
      "Oceania: 23.5%\n",
      "Africa: 123.8%\n",
      "Asia: 43.8%\n",
      "North America: 49.7%\n",
      "South America: 65.5%\n"
     ]
    }
   ],
   "source": [
    "pop_change = collections.defaultdict(int)\n",
    "with open(os.path.join('../../data/landarea', 'lecz-urban-rural-population-land-area-estimates_continent-90m.csv'),'rU') as inputfile:\n",
    "    header = next(inputfile)\n",
    "    for line in inputfile:\n",
    "        line = line.rstrip().split(',')\n",
    "        if line[1] == 'Total National Population':\n",
    "            pop_change[line[0]]+=(float(line[6])-float(line[5]))\n",
    "print \"percent increase from 2010 to 2100\"\n",
    "for cont in pop_change.keys():\n",
    "    percentincrease=pop_change[cont]/population_dict[cont]\n",
    "    print \"{0}: {1:.1f}%\".format(cont, percentincrease*100)"
   ]
  },
  {
   "cell_type": "markdown",
   "metadata": {},
   "source": [
    "2) Try and calculate the population density (total national population divided by the total land area and remember to convert at least one number to float). Which continent was most densely populated in 2010?"
   ]
  },
  {
   "cell_type": "code",
   "execution_count": 48,
   "metadata": {
    "collapsed": false
   },
   "outputs": [
    {
     "name": "stdout",
     "output_type": "stream",
     "text": [
      "population density\n",
      "Europe: 128.8\n",
      "Oceania: 4.4\n",
      "Africa: 37.1\n",
      "Asia: 99.2\n",
      "North America: 23.5\n",
      "South America: 23.7\n"
     ]
    }
   ],
   "source": [
    "landarea = collections.defaultdict(int)\n",
    "with open(os.path.join('../../data/landarea', 'lecz-urban-rural-population-land-area-estimates_continent-90m.csv'),'rU') as inputfile:\n",
    "    header = next(inputfile)\n",
    "    for line in inputfile:\n",
    "        line = line.rstrip().split(',')\n",
    "        if line[1] == 'Total National Population':\n",
    "            landarea[line[0]]+=float(line[7])\n",
    "print \"population density\"\n",
    "for cont in landarea.keys():\n",
    "    pop_density=population_dict[cont]/landarea[cont]\n",
    "    print \"{0}: {1:.1f}\".format(cont, pop_density)"
   ]
  },
  {
   "cell_type": "markdown",
   "metadata": {},
   "source": [
    "###1.7 Pandas"
   ]
  },
  {
   "cell_type": "code",
   "execution_count": 2,
   "metadata": {
    "collapsed": false
   },
   "outputs": [],
   "source": [
    "import pandas as pd\n",
    "\n",
    "df = pd.read_csv(os.path.join('../../data/landarea/lecz-urban-rural-population-land-area-estimates_continent-90m.csv'))"
   ]
  },
  {
   "cell_type": "code",
   "execution_count": 3,
   "metadata": {
    "collapsed": false
   },
   "outputs": [
    {
     "data": {
      "text/plain": [
       "0             Africa\n",
       "1             Africa\n",
       "2             Africa\n",
       "3             Africa\n",
       "4             Africa\n",
       "5             Africa\n",
       "6             Africa\n",
       "7             Africa\n",
       "8             Africa\n",
       "9             Africa\n",
       "10            Africa\n",
       "11            Africa\n",
       "12            Africa\n",
       "13            Africa\n",
       "14            Africa\n",
       "15            Africa\n",
       "16            Africa\n",
       "17            Africa\n",
       "18            Africa\n",
       "19            Africa\n",
       "20              Asia\n",
       "21              Asia\n",
       "22              Asia\n",
       "23              Asia\n",
       "24              Asia\n",
       "25              Asia\n",
       "26              Asia\n",
       "27              Asia\n",
       "28              Asia\n",
       "29              Asia\n",
       "           ...      \n",
       "90     North America\n",
       "91     North America\n",
       "92     North America\n",
       "93     North America\n",
       "94     North America\n",
       "95     North America\n",
       "96     North America\n",
       "97     North America\n",
       "98     North America\n",
       "99     North America\n",
       "100    South America\n",
       "101    South America\n",
       "102    South America\n",
       "103    South America\n",
       "104    South America\n",
       "105    South America\n",
       "106    South America\n",
       "107    South America\n",
       "108    South America\n",
       "109    South America\n",
       "110    South America\n",
       "111    South America\n",
       "112    South America\n",
       "113    South America\n",
       "114    South America\n",
       "115    South America\n",
       "116    South America\n",
       "117    South America\n",
       "118    South America\n",
       "119    South America\n",
       "Name: Continent, dtype: object"
      ]
     },
     "execution_count": 3,
     "metadata": {},
     "output_type": "execute_result"
    }
   ],
   "source": [
    "df['Continent']"
   ]
  },
  {
   "cell_type": "code",
   "execution_count": 32,
   "metadata": {
    "collapsed": false
   },
   "outputs": [
    {
     "data": {
      "text/html": [
       "<div style=\"max-height:1000px;max-width:1500px;overflow:auto;\">\n",
       "<table border=\"1\" class=\"dataframe\">\n",
       "  <thead>\n",
       "    <tr style=\"text-align: right;\">\n",
       "      <th></th>\n",
       "      <th>Continent</th>\n",
       "      <th>ElevationZone</th>\n",
       "      <th>UrbanRuralDesignation</th>\n",
       "      <th>Population1990</th>\n",
       "      <th>Population2000</th>\n",
       "      <th>Population2010</th>\n",
       "      <th>Population2100</th>\n",
       "      <th>LandArea</th>\n",
       "    </tr>\n",
       "  </thead>\n",
       "  <tbody>\n",
       "    <tr>\n",
       "      <th>0</th>\n",
       "      <td>Africa</td>\n",
       "      <td>Elevations &gt; 20m or Non-Contiguous</td>\n",
       "      <td>Rural</td>\n",
       "      <td>333302081</td>\n",
       "      <td>418265923</td>\n",
       "      <td>530184094</td>\n",
       "      <td>1249908321</td>\n",
       "      <td>23749644</td>\n",
       "    </tr>\n",
       "    <tr>\n",
       "      <th>1</th>\n",
       "      <td>Africa</td>\n",
       "      <td>Elevations &gt; 20m or Non-Contiguous</td>\n",
       "      <td>Urban</td>\n",
       "      <td>157846329</td>\n",
       "      <td>210381843</td>\n",
       "      <td>266776037</td>\n",
       "      <td>504662423</td>\n",
       "      <td>204719</td>\n",
       "    </tr>\n",
       "    <tr>\n",
       "      <th>2</th>\n",
       "      <td>Africa</td>\n",
       "      <td>Elevations Less Than or Equal To 10m</td>\n",
       "      <td>Rural</td>\n",
       "      <td>18167003</td>\n",
       "      <td>22569516</td>\n",
       "      <td>28154645</td>\n",
       "      <td>76368900</td>\n",
       "      <td>172460</td>\n",
       "    </tr>\n",
       "    <tr>\n",
       "      <th>3</th>\n",
       "      <td>Africa</td>\n",
       "      <td>Elevations Less Than or Equal To 10m</td>\n",
       "      <td>Urban</td>\n",
       "      <td>22412955</td>\n",
       "      <td>28679117</td>\n",
       "      <td>36746774</td>\n",
       "      <td>94042536</td>\n",
       "      <td>13838</td>\n",
       "    </tr>\n",
       "    <tr>\n",
       "      <th>4</th>\n",
       "      <td>Africa</td>\n",
       "      <td>Elevations Less Than or Equal To 12m</td>\n",
       "      <td>Rural</td>\n",
       "      <td>20569411</td>\n",
       "      <td>25576481</td>\n",
       "      <td>31957186</td>\n",
       "      <td>85839163</td>\n",
       "      <td>202456</td>\n",
       "    </tr>\n",
       "    <tr>\n",
       "      <th>5</th>\n",
       "      <td>Africa</td>\n",
       "      <td>Elevations Less Than or Equal To 12m</td>\n",
       "      <td>Urban</td>\n",
       "      <td>25761403</td>\n",
       "      <td>32968917</td>\n",
       "      <td>42205337</td>\n",
       "      <td>105920405</td>\n",
       "      <td>16035</td>\n",
       "    </tr>\n",
       "    <tr>\n",
       "      <th>6</th>\n",
       "      <td>Africa</td>\n",
       "      <td>Elevations Less Than or Equal To 1m</td>\n",
       "      <td>Rural</td>\n",
       "      <td>3052584</td>\n",
       "      <td>3891608</td>\n",
       "      <td>4785451</td>\n",
       "      <td>14152403</td>\n",
       "      <td>21939</td>\n",
       "    </tr>\n",
       "    <tr>\n",
       "      <th>7</th>\n",
       "      <td>Africa</td>\n",
       "      <td>Elevations Less Than or Equal To 1m</td>\n",
       "      <td>Urban</td>\n",
       "      <td>4056678</td>\n",
       "      <td>4791461</td>\n",
       "      <td>5915752</td>\n",
       "      <td>21137853</td>\n",
       "      <td>2193</td>\n",
       "    </tr>\n",
       "    <tr>\n",
       "      <th>8</th>\n",
       "      <td>Africa</td>\n",
       "      <td>Elevations Less Than or Equal To 20m</td>\n",
       "      <td>Rural</td>\n",
       "      <td>27791636</td>\n",
       "      <td>34704704</td>\n",
       "      <td>43734340</td>\n",
       "      <td>118040942</td>\n",
       "      <td>342694</td>\n",
       "    </tr>\n",
       "    <tr>\n",
       "      <th>9</th>\n",
       "      <td>Africa</td>\n",
       "      <td>Elevations Less Than or Equal To 20m</td>\n",
       "      <td>Urban</td>\n",
       "      <td>37566072</td>\n",
       "      <td>47749797</td>\n",
       "      <td>60835348</td>\n",
       "      <td>145244129</td>\n",
       "      <td>23456</td>\n",
       "    </tr>\n",
       "  </tbody>\n",
       "</table>\n",
       "</div>"
      ],
      "text/plain": [
       "  Continent                          ElevationZone UrbanRuralDesignation  \\\n",
       "0    Africa    Elevations > 20m or Non-Contiguous                  Rural   \n",
       "1    Africa    Elevations > 20m or Non-Contiguous                  Urban   \n",
       "2    Africa  Elevations Less Than or Equal To 10m                  Rural   \n",
       "3    Africa  Elevations Less Than or Equal To 10m                  Urban   \n",
       "4    Africa  Elevations Less Than or Equal To 12m                  Rural   \n",
       "5    Africa  Elevations Less Than or Equal To 12m                  Urban   \n",
       "6    Africa    Elevations Less Than or Equal To 1m                 Rural   \n",
       "7    Africa    Elevations Less Than or Equal To 1m                 Urban   \n",
       "8    Africa  Elevations Less Than or Equal To 20m                  Rural   \n",
       "9    Africa  Elevations Less Than or Equal To 20m                  Urban   \n",
       "\n",
       "   Population1990  Population2000  Population2010  Population2100  LandArea  \n",
       "0       333302081       418265923       530184094      1249908321  23749644  \n",
       "1       157846329       210381843       266776037       504662423    204719  \n",
       "2        18167003        22569516        28154645        76368900    172460  \n",
       "3        22412955        28679117        36746774        94042536     13838  \n",
       "4        20569411        25576481        31957186        85839163    202456  \n",
       "5        25761403        32968917        42205337       105920405     16035  \n",
       "6         3052584         3891608         4785451        14152403     21939  \n",
       "7         4056678         4791461         5915752        21137853      2193  \n",
       "8        27791636        34704704        43734340       118040942    342694  \n",
       "9        37566072        47749797        60835348       145244129     23456  "
      ]
     },
     "execution_count": 32,
     "metadata": {},
     "output_type": "execute_result"
    }
   ],
   "source": [
    "df[0:10]"
   ]
  },
  {
   "cell_type": "code",
   "execution_count": null,
   "metadata": {
    "collapsed": true
   },
   "outputs": [],
   "source": []
  }
 ],
 "metadata": {
  "kernelspec": {
   "display_name": "Python 2",
   "language": "python",
   "name": "python2"
  },
  "language_info": {
   "codemirror_mode": {
    "name": "ipython",
    "version": 2
   },
   "file_extension": ".py",
   "mimetype": "text/x-python",
   "name": "python",
   "nbconvert_exporter": "python",
   "pygments_lexer": "ipython2",
   "version": "2.7.6"
  }
 },
 "nbformat": 4,
 "nbformat_minor": 0
}
