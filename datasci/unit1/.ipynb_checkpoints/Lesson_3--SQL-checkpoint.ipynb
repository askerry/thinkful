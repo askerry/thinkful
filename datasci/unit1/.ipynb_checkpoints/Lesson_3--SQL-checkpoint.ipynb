{
 "cells": [
  {
   "cell_type": "markdown",
   "metadata": {},
   "source": [
    "##Lesson 3: Working with Databases"
   ]
  },
  {
   "cell_type": "markdown",
   "metadata": {},
   "source": [
    "#### if working with mysql or postgres we can use the sql extension to query directly from ipython notebook, and load into pandas dataframe"
   ]
  },
  {
   "cell_type": "code",
   "execution_count": 166,
   "metadata": {
    "collapsed": false
   },
   "outputs": [
    {
     "name": "stdout",
     "output_type": "stream",
     "text": [
      "The sql extension is already loaded. To reload it, use:\n",
      "  %reload_ext sql\n"
     ]
    }
   ],
   "source": [
    "%load_ext sql"
   ]
  },
  {
   "cell_type": "code",
   "execution_count": 167,
   "metadata": {
    "collapsed": false
   },
   "outputs": [
    {
     "data": {
      "text/plain": [
       "u'Connected: root@bird'"
      ]
     },
     "execution_count": 167,
     "metadata": {},
     "output_type": "execute_result"
    }
   ],
   "source": [
    "%sql mysql://root@localhost/bird"
   ]
  },
  {
   "cell_type": "code",
   "execution_count": 168,
   "metadata": {
    "collapsed": true
   },
   "outputs": [],
   "source": [
    "%config SqlMagic.autopandas=True"
   ]
  },
  {
   "cell_type": "code",
   "execution_count": 171,
   "metadata": {
    "collapsed": false
   },
   "outputs": [
    {
     "name": "stdout",
     "output_type": "stream",
     "text": [
      "5 rows affected.\n"
     ]
    },
    {
     "data": {
      "text/html": [
       "<div style=\"max-height:1000px;max-width:1500px;overflow:auto;\">\n",
       "<table border=\"1\" class=\"dataframe\">\n",
       "  <thead>\n",
       "    <tr style=\"text-align: right;\">\n",
       "      <th></th>\n",
       "      <th>Tables_in_bird</th>\n",
       "    </tr>\n",
       "  </thead>\n",
       "  <tbody>\n",
       "    <tr>\n",
       "      <th>0</th>\n",
       "      <td>checklists</td>\n",
       "    </tr>\n",
       "    <tr>\n",
       "      <th>1</th>\n",
       "      <td>locations</td>\n",
       "    </tr>\n",
       "    <tr>\n",
       "      <th>2</th>\n",
       "      <td>observers</td>\n",
       "    </tr>\n",
       "    <tr>\n",
       "      <th>3</th>\n",
       "      <td>sightings</td>\n",
       "    </tr>\n",
       "    <tr>\n",
       "      <th>4</th>\n",
       "      <td>species</td>\n",
       "    </tr>\n",
       "  </tbody>\n",
       "</table>\n",
       "</div>"
      ],
      "text/plain": [
       "  Tables_in_bird\n",
       "0     checklists\n",
       "1      locations\n",
       "2      observers\n",
       "3      sightings\n",
       "4        species"
      ]
     },
     "execution_count": 171,
     "metadata": {},
     "output_type": "execute_result"
    }
   ],
   "source": [
    "%sql SHOW TABLES;"
   ]
  },
  {
   "cell_type": "code",
   "execution_count": 182,
   "metadata": {
    "collapsed": false
   },
   "outputs": [
    {
     "name": "stdout",
     "output_type": "stream",
     "text": [
      "10 rows affected.\n"
     ]
    },
    {
     "data": {
      "text/html": [
       "<div style=\"max-height:1000px;max-width:1500px;overflow:auto;\">\n",
       "<table border=\"1\" class=\"dataframe\">\n",
       "  <thead>\n",
       "    <tr style=\"text-align: right;\">\n",
       "      <th></th>\n",
       "      <th>pk</th>\n",
       "      <th>taxonomic_order</th>\n",
       "      <th>category</th>\n",
       "      <th>common_name</th>\n",
       "      <th>scientific_name</th>\n",
       "      <th>subspecies_common_name</th>\n",
       "      <th>subspecies_scientific_name</th>\n",
       "    </tr>\n",
       "  </thead>\n",
       "  <tbody>\n",
       "    <tr>\n",
       "      <th>0</th>\n",
       "      <td>1</td>\n",
       "      <td>1</td>\n",
       "      <td>species</td>\n",
       "      <td>Ostrich</td>\n",
       "      <td>Struthio camelus</td>\n",
       "      <td></td>\n",
       "      <td></td>\n",
       "    </tr>\n",
       "    <tr>\n",
       "      <th>1</th>\n",
       "      <td>2</td>\n",
       "      <td>3</td>\n",
       "      <td>issf</td>\n",
       "      <td>Ostrich</td>\n",
       "      <td>Struthio camelus</td>\n",
       "      <td>Ostrich (Common)</td>\n",
       "      <td>Struthio camelus [camelus Group]</td>\n",
       "    </tr>\n",
       "    <tr>\n",
       "      <th>2</th>\n",
       "      <td>3</td>\n",
       "      <td>5</td>\n",
       "      <td>issf</td>\n",
       "      <td>Ostrich</td>\n",
       "      <td>Struthio camelus</td>\n",
       "      <td>Ostrich (Somali)</td>\n",
       "      <td>Struthio camelus molybdophanes</td>\n",
       "    </tr>\n",
       "    <tr>\n",
       "      <th>3</th>\n",
       "      <td>4</td>\n",
       "      <td>7</td>\n",
       "      <td>species</td>\n",
       "      <td>Greater Rhea</td>\n",
       "      <td>Rhea americana</td>\n",
       "      <td></td>\n",
       "      <td></td>\n",
       "    </tr>\n",
       "    <tr>\n",
       "      <th>4</th>\n",
       "      <td>5</td>\n",
       "      <td>13</td>\n",
       "      <td>species</td>\n",
       "      <td>Lesser Rhea</td>\n",
       "      <td>Rhea pennata</td>\n",
       "      <td></td>\n",
       "      <td></td>\n",
       "    </tr>\n",
       "    <tr>\n",
       "      <th>5</th>\n",
       "      <td>6</td>\n",
       "      <td>17</td>\n",
       "      <td>issf</td>\n",
       "      <td>Lesser Rhea</td>\n",
       "      <td>Rhea pennata</td>\n",
       "      <td>Lesser Rhea (Darwin's)</td>\n",
       "      <td>Rhea pennata pennata</td>\n",
       "    </tr>\n",
       "    <tr>\n",
       "      <th>6</th>\n",
       "      <td>7</td>\n",
       "      <td>18</td>\n",
       "      <td>species</td>\n",
       "      <td>Southern Cassowary</td>\n",
       "      <td>Casuarius casuarius</td>\n",
       "      <td></td>\n",
       "      <td></td>\n",
       "    </tr>\n",
       "    <tr>\n",
       "      <th>7</th>\n",
       "      <td>8</td>\n",
       "      <td>21</td>\n",
       "      <td>species</td>\n",
       "      <td>Emu</td>\n",
       "      <td>Dromaius novaehollandiae</td>\n",
       "      <td></td>\n",
       "      <td></td>\n",
       "    </tr>\n",
       "    <tr>\n",
       "      <th>8</th>\n",
       "      <td>9</td>\n",
       "      <td>29</td>\n",
       "      <td>species</td>\n",
       "      <td>North Island Brown Kiwi</td>\n",
       "      <td>Apteryx mantelli</td>\n",
       "      <td></td>\n",
       "      <td></td>\n",
       "    </tr>\n",
       "    <tr>\n",
       "      <th>9</th>\n",
       "      <td>10</td>\n",
       "      <td>30</td>\n",
       "      <td>species</td>\n",
       "      <td>Little Spotted Kiwi</td>\n",
       "      <td>Apteryx owenii</td>\n",
       "      <td></td>\n",
       "      <td></td>\n",
       "    </tr>\n",
       "  </tbody>\n",
       "</table>\n",
       "</div>"
      ],
      "text/plain": [
       "   pk  taxonomic_order category              common_name  \\\n",
       "0   1                1  species                  Ostrich   \n",
       "1   2                3     issf                  Ostrich   \n",
       "2   3                5     issf                  Ostrich   \n",
       "3   4                7  species             Greater Rhea   \n",
       "4   5               13  species              Lesser Rhea   \n",
       "5   6               17     issf              Lesser Rhea   \n",
       "6   7               18  species       Southern Cassowary   \n",
       "7   8               21  species                      Emu   \n",
       "8   9               29  species  North Island Brown Kiwi   \n",
       "9  10               30  species      Little Spotted Kiwi   \n",
       "\n",
       "            scientific_name  subspecies_common_name  \\\n",
       "0          Struthio camelus                           \n",
       "1          Struthio camelus        Ostrich (Common)   \n",
       "2          Struthio camelus        Ostrich (Somali)   \n",
       "3            Rhea americana                           \n",
       "4              Rhea pennata                           \n",
       "5              Rhea pennata  Lesser Rhea (Darwin's)   \n",
       "6       Casuarius casuarius                           \n",
       "7  Dromaius novaehollandiae                           \n",
       "8          Apteryx mantelli                           \n",
       "9            Apteryx owenii                           \n",
       "\n",
       "         subspecies_scientific_name  \n",
       "0                                    \n",
       "1  Struthio camelus [camelus Group]  \n",
       "2    Struthio camelus molybdophanes  \n",
       "3                                    \n",
       "4                                    \n",
       "5              Rhea pennata pennata  \n",
       "6                                    \n",
       "7                                    \n",
       "8                                    \n",
       "9                                    "
      ]
     },
     "execution_count": 182,
     "metadata": {},
     "output_type": "execute_result"
    }
   ],
   "source": [
    "%sql SELECT * FROM species LIMIT 10"
   ]
  },
  {
   "cell_type": "code",
   "execution_count": 173,
   "metadata": {
    "collapsed": false
   },
   "outputs": [
    {
     "name": "stdout",
     "output_type": "stream",
     "text": [
      "1 rows affected.\n"
     ]
    },
    {
     "data": {
      "text/html": [
       "<div style=\"max-height:1000px;max-width:1500px;overflow:auto;\">\n",
       "<table border=\"1\" class=\"dataframe\">\n",
       "  <thead>\n",
       "    <tr style=\"text-align: right;\">\n",
       "      <th></th>\n",
       "      <th>COUNT(*)</th>\n",
       "    </tr>\n",
       "  </thead>\n",
       "  <tbody>\n",
       "    <tr>\n",
       "      <th>0</th>\n",
       "      <td>7054</td>\n",
       "    </tr>\n",
       "  </tbody>\n",
       "</table>\n",
       "</div>"
      ],
      "text/plain": [
       "   COUNT(*)\n",
       "0      7054"
      ]
     },
     "execution_count": 173,
     "metadata": {},
     "output_type": "execute_result"
    }
   ],
   "source": [
    "%sql SELECT COUNT(*) FROM SPECIES LIMIT 100"
   ]
  },
  {
   "cell_type": "markdown",
   "metadata": {},
   "source": [
    "###3.1 SQLlite"
   ]
  },
  {
   "cell_type": "code",
   "execution_count": 183,
   "metadata": {
    "collapsed": true
   },
   "outputs": [],
   "source": [
    "# The sqlite3 module is used to work with the SQLite database.\n",
    "import sqlite3 as lite\n",
    "\n",
    "# Here you connect to the database. The `connect()` method returns a connection object.\n",
    "con = lite.connect('getting_started.db')"
   ]
  },
  {
   "cell_type": "code",
   "execution_count": 187,
   "metadata": {
    "collapsed": false
   },
   "outputs": [
    {
     "name": "stdout",
     "output_type": "stream",
     "text": [
      "[(u'New York City', u'NY'), (u'Boston', u'MA'), (u'Chicago', u'IL'), (u'Miami', u'FL'), (u'Dallas', u'TX'), (u'Seattle', u'WA'), (u'Portland', u'OR'), (u'San Francisco', u'CA'), (u'Los Angeles', u'CA'), (u'Washington', u'DC'), (u'Houston', u'TX'), (u'Washington', u'DC'), (u'Houston', u'TX'), (u'Washington', u'DC'), (u'Houston', u'TX'), (u'Washington', u'DC'), (u'Houston', u'TX'), (u'Washington', u'DC'), (u'Houston', u'TX')]\n"
     ]
    },
    {
     "data": {
      "text/plain": [
       "<sqlite3.Cursor at 0x10df548f0>"
      ]
     },
     "execution_count": 187,
     "metadata": {},
     "output_type": "execute_result"
    }
   ],
   "source": [
    "print con.execute(\"SELECT name, state FROM cities;\").fetchall()\n"
   ]
  },
  {
   "cell_type": "code",
   "execution_count": 191,
   "metadata": {
    "collapsed": false
   },
   "outputs": [
    {
     "name": "stdout",
     "output_type": "stream",
     "text": [
      "[(u'San Francisco', u'CA'), (u'Los Angeles', u'CA')]\n"
     ]
    }
   ],
   "source": [
    "print con.execute(\"SELECT name, state FROM cities WHERE state='CA';\").fetchall()"
   ]
  },
  {
   "cell_type": "code",
   "execution_count": 190,
   "metadata": {
    "collapsed": false
   },
   "outputs": [
    {
     "name": "stdout",
     "output_type": "stream",
     "text": [
      "[(u'Miami',), (u'Dallas',)]\n"
     ]
    }
   ],
   "source": [
    "print con.execute(\"SELECT name FROM cities LIMIT 2 OFFSET 3;\").fetchall()"
   ]
  },
  {
   "cell_type": "code",
   "execution_count": 189,
   "metadata": {
    "collapsed": false
   },
   "outputs": [
    {
     "name": "stdout",
     "output_type": "stream",
     "text": [
      "[(1,)]\n"
     ]
    }
   ],
   "source": [
    "print con.execute(\"SELECT COUNT(*) FROM cities WHERE name LIKE 'San%' AND state='CA';\").fetchall()"
   ]
  },
  {
   "cell_type": "code",
   "execution_count": 188,
   "metadata": {
    "collapsed": false
   },
   "outputs": [
    {
     "data": {
      "text/plain": [
       "<sqlite3.Cursor at 0x10df54c70>"
      ]
     },
     "execution_count": 188,
     "metadata": {},
     "output_type": "execute_result"
    }
   ],
   "source": [
    "con.execute(\"UPDATE cities SET state='Californ-I-A' WHERE state='CA';\")\n",
    "con.execute(\"UPDATE cities SET state='CA' WHERE state='Californ-I-A';\")"
   ]
  },
  {
   "cell_type": "markdown",
   "metadata": {},
   "source": [
    "####bonus exercise"
   ]
  },
  {
   "cell_type": "markdown",
   "metadata": {},
   "source": [
    "rather than manually entering weather data from table on thinkful table, let's scrape that content and load it into a dataframe"
   ]
  },
  {
   "cell_type": "code",
   "execution_count": 21,
   "metadata": {
    "collapsed": false
   },
   "outputs": [
    {
     "name": "stdout",
     "output_type": "stream",
     "text": [
      "<!DOCTYPE html> <html lang=\"en\"> <head> <meta charset=\"UTF-8\"> <meta name=\"viewport\" content=\"width=device-width\">  <title>Accounts | Thinkful</title> <meta name=\"description\" content=\"Login to Thinkful and start learning today.\"> <link rel=\"stylesheet\" href=\"/static/build/skeleton.css\" />  <link rel=\"shortcut icon\" href=\"//www.thinkful.com/favicon.ico\" type=\"image/x-icon\"> <link rel=\"icon\" href=\"//www.thinkful.com/favicon.ico\" type=\"image/x-icon\">  <meta name=\"viewport\" content=\"width=device-width, initial-scale=1\">  <script type=\"text/javascript\" src=\"//use.typekit.net/fxg2bgq.js\"></script> <script type=\"text/javascript\">try{Typekit.load();}catch(e){}</script>  <script type=\"text/javascript\">  </script> </head> <body ng-app=\"hawk\"> <div class=\"top-level-container\"> <header class=\"login-header\"> <img class=\"thinkful-logo\" src=\"/static/tf-logo-web.svg\"> </header>  <form class=\"login-form\" method=\"POST\" action=\"/login\"> <label for=\"LoginInput\"> Email Address </label> <input type=\"hidden\" name=\"_next\" id=\"NextPage\" value=\"https://courses.thinkful.com/data-001v2/assignment/1.3.1\"> <input type=\"email\" name=\"username\" autofocus placeholder=\"you@example.com\" id=\"LoginInput\" value=\"\">  <div class=\"label-container\"> <label for=\"LoginPassword\"> Password </label> <a class=\"forgot-password\" tabindex=\"-1\" href=\"/recover-password\">Forgot Password</a> </div> <input type=\"password\" name=\"password\" id=\"LoginPassword\"> <p class=\"login-error \" ng-class=\"visible\">The email or password you entered was incorrect</p> <input type=\"submit\" value=\"Log In\"> </form>  <small class=\"login-disclaimer\">&copy; 2012-2015 All Rights Reserved <br/> Made with love in New York. <a href=\"//www.thinkful.com/static/pdfs/Privacy-Policy.pdf\">Privacy</a> and <a href=\"http://www.thinkful.com/static/pdfs/Terms-of-Service.pdf\">Terms</a></small> </div>  <script src=\"/static/build/index.js\"></script>   </body> </html>\n"
     ]
    }
   ],
   "source": [
    "import urllib2\n",
    "url=\"https://courses.thinkful.com/data-001v2/assignment/1.3.1\"\n",
    "f=urllib2.urlopen(url)\n",
    "html=[line.strip() for line in f]\n",
    "print ' '.join(html)"
   ]
  },
  {
   "cell_type": "markdown",
   "metadata": {},
   "source": [
    "oops, this page has a login! I'll download the html directly from developer tools and save as sqlite_thinkful.html"
   ]
  },
  {
   "cell_type": "code",
   "execution_count": 34,
   "metadata": {
    "collapsed": false
   },
   "outputs": [],
   "source": [
    "with open('sqlite_thinkful.html', 'rU') as inputfile:\n",
    "    html=[line.strip() for line in inputfile]\n",
    "    html=' '.join(html)"
   ]
  },
  {
   "cell_type": "code",
   "execution_count": 138,
   "metadata": {
    "collapsed": false
   },
   "outputs": [],
   "source": [
    "from bs4 import BeautifulSoup\n",
    "soup=BeautifulSoup(html)\n",
    "for li in soup.find_all('li'):\n",
    "    if \"Add the following data to the table:\" in li.get_text():\n",
    "        data=li\n",
    "data=data.find(\"pre\").get_text()\n",
    "header=data.split()[:8]\n",
    "header.remove('Month')\n",
    "header.remove('Month')\n",
    "header.remove('High')\n",
    "data=data.split()[8:]\n",
    "data.insert(0,'0')"
   ]
  },
  {
   "cell_type": "code",
   "execution_count": 147,
   "metadata": {
    "collapsed": false
   },
   "outputs": [],
   "source": [
    "citydata,currcity=[],[]\n",
    "sameline=True\n",
    "for wordn,word in enumerate(data):\n",
    "    if word==\"2013\":\n",
    "        sameline=True\n",
    "        city=[]\n",
    "        i=1\n",
    "        while not data[wordn-i].isdigit():\n",
    "            city.append(data[wordn-i])\n",
    "            i+=1\n",
    "        city.reverse()\n",
    "        city=' '.join(city)\n",
    "        currcity=[city, word]\n",
    "        citydata.append(currcity)\n",
    "    elif len(currcity)!=0 and sameline:\n",
    "        currcity.append(word)\n",
    "        if word.isdigit():\n",
    "            sameline=False\n",
    "import pandas as pd\n",
    "df=pd.DataFrame(columns=header, data=citydata)\n"
   ]
  },
  {
   "cell_type": "code",
   "execution_count": 202,
   "metadata": {
    "collapsed": false
   },
   "outputs": [
    {
     "data": {
      "text/html": [
       "<div style=\"max-height:1000px;max-width:1500px;overflow:auto;\">\n",
       "<table border=\"1\" class=\"dataframe\">\n",
       "  <thead>\n",
       "    <tr style=\"text-align: right;\">\n",
       "      <th></th>\n",
       "      <th>City</th>\n",
       "      <th>Year</th>\n",
       "      <th>Warm</th>\n",
       "      <th>Cold</th>\n",
       "      <th>Average</th>\n",
       "    </tr>\n",
       "  </thead>\n",
       "  <tbody>\n",
       "    <tr>\n",
       "      <th>0</th>\n",
       "      <td>New York City</td>\n",
       "      <td>2013</td>\n",
       "      <td>July</td>\n",
       "      <td>January</td>\n",
       "      <td>62</td>\n",
       "    </tr>\n",
       "    <tr>\n",
       "      <th>1</th>\n",
       "      <td>Boston</td>\n",
       "      <td>2013</td>\n",
       "      <td>July</td>\n",
       "      <td>January</td>\n",
       "      <td>59</td>\n",
       "    </tr>\n",
       "    <tr>\n",
       "      <th>2</th>\n",
       "      <td>Chicago</td>\n",
       "      <td>2013</td>\n",
       "      <td>July</td>\n",
       "      <td>January</td>\n",
       "      <td>59</td>\n",
       "    </tr>\n",
       "    <tr>\n",
       "      <th>3</th>\n",
       "      <td>Miami</td>\n",
       "      <td>2013</td>\n",
       "      <td>August</td>\n",
       "      <td>January</td>\n",
       "      <td>84</td>\n",
       "    </tr>\n",
       "    <tr>\n",
       "      <th>4</th>\n",
       "      <td>Dallas</td>\n",
       "      <td>2013</td>\n",
       "      <td>July</td>\n",
       "      <td>January</td>\n",
       "      <td>77</td>\n",
       "    </tr>\n",
       "    <tr>\n",
       "      <th>5</th>\n",
       "      <td>Seattle</td>\n",
       "      <td>2013</td>\n",
       "      <td>July</td>\n",
       "      <td>January</td>\n",
       "      <td>61</td>\n",
       "    </tr>\n",
       "    <tr>\n",
       "      <th>6</th>\n",
       "      <td>Portland</td>\n",
       "      <td>2013</td>\n",
       "      <td>July</td>\n",
       "      <td>December</td>\n",
       "      <td>63</td>\n",
       "    </tr>\n",
       "    <tr>\n",
       "      <th>7</th>\n",
       "      <td>San Francisco</td>\n",
       "      <td>2013</td>\n",
       "      <td>September</td>\n",
       "      <td>December</td>\n",
       "      <td>64</td>\n",
       "    </tr>\n",
       "    <tr>\n",
       "      <th>8</th>\n",
       "      <td>Los Angeles</td>\n",
       "      <td>2013</td>\n",
       "      <td>September</td>\n",
       "      <td>December</td>\n",
       "      <td>75</td>\n",
       "    </tr>\n",
       "  </tbody>\n",
       "</table>\n",
       "</div>"
      ],
      "text/plain": [
       "            City  Year       Warm      Cold Average\n",
       "0  New York City  2013       July   January      62\n",
       "1         Boston  2013       July   January      59\n",
       "2        Chicago  2013       July   January      59\n",
       "3          Miami  2013     August   January      84\n",
       "4         Dallas  2013       July   January      77\n",
       "5        Seattle  2013       July   January      61\n",
       "6       Portland  2013       July  December      63\n",
       "7  San Francisco  2013  September  December      64\n",
       "8    Los Angeles  2013  September  December      75"
      ]
     },
     "execution_count": 202,
     "metadata": {},
     "output_type": "execute_result"
    }
   ],
   "source": [
    "df"
   ]
  },
  {
   "cell_type": "code",
   "execution_count": 157,
   "metadata": {
    "collapsed": false
   },
   "outputs": [],
   "source": [
    "querystr=[]\n",
    "for index,row in df.iterrows():\n",
    "    querystr.append(str(tuple([str(val) for val in row.values])))\n",
    "querystr=\"INSERT INTO weather (city, year, warm_month, cold_month, average_high) VALUES\"+', '.join(querystr)"
   ]
  },
  {
   "cell_type": "code",
   "execution_count": 192,
   "metadata": {
    "collapsed": false
   },
   "outputs": [
    {
     "data": {
      "text/plain": [
       "<sqlite3.Cursor at 0x10df54f10>"
      ]
     },
     "execution_count": 192,
     "metadata": {},
     "output_type": "execute_result"
    }
   ],
   "source": [
    "con.execute(querystr)"
   ]
  },
  {
   "cell_type": "markdown",
   "metadata": {},
   "source": [
    "###3.2 SQL-python"
   ]
  },
  {
   "cell_type": "markdown",
   "metadata": {},
   "source": [
    "####connecting to db"
   ]
  },
  {
   "cell_type": "code",
   "execution_count": 1,
   "metadata": {
    "collapsed": false
   },
   "outputs": [
    {
     "name": "stdout",
     "output_type": "stream",
     "text": [
      "SQLite version: 3.8.3\n"
     ]
    }
   ],
   "source": [
    "import sqlite3 as lite\n",
    "con = lite.connect('getting_started.db')\n",
    "\n",
    "with con:\n",
    "  # From the connection, you get a cursor object. The cursor is what goes over the records that result from a query.\n",
    "  cur = con.cursor()    \n",
    "  cur.execute('SELECT SQLITE_VERSION()')\n",
    "  # You're fetching the data from the cursor object. Because you're only fetching one record, you'll use the `fetchone()` method. If fetching more than one record, use the `fetchall()` method.\n",
    "  data = cur.fetchone()\n",
    "  # Finally, print the result.\n",
    "  print \"SQLite version: %s\" % data"
   ]
  },
  {
   "cell_type": "markdown",
   "metadata": {},
   "source": [
    "####writing to db"
   ]
  },
  {
   "cell_type": "code",
   "execution_count": 163,
   "metadata": {
    "collapsed": false
   },
   "outputs": [],
   "source": [
    "import sqlite3 as lite\n",
    "\n",
    "con = lite.connect('getting_started.db')\n",
    "\n",
    "# Inserting rows by passing values directly to `execute()`\n",
    "with con:\n",
    "\n",
    "    cur = con.cursor()\n",
    "    cur.execute(\"INSERT INTO cities VALUES('Washington', 'DC')\")\n",
    "    cur.execute(\"INSERT INTO cities VALUES('Houston', 'TX')\")\n",
    "    cur.execute(\"INSERT INTO weather VALUES('Washington', 2013, 'July', 'January', 65)\")\n",
    "    cur.execute(\"INSERT INTO weather VALUES('Houston', 2013, 'July', 'January', 70)\")"
   ]
  },
  {
   "cell_type": "markdown",
   "metadata": {},
   "source": [
    "###3.3 Joining and Filtering Data"
   ]
  },
  {
   "cell_type": "code",
   "execution_count": 206,
   "metadata": {
    "collapsed": false
   },
   "outputs": [
    {
     "data": {
      "text/plain": [
       "[(u'New York City', u'NY', 2013, u'July', u'January'),\n",
       " (u'Boston', u'MA', 2013, u'July', u'January'),\n",
       " (u'Chicago', u'IL', 2013, u'July', u'January'),\n",
       " (u'Miami', u'FL', 2013, u'August', u'January'),\n",
       " (u'Dallas', u'TX', 2013, u'July', u'January'),\n",
       " (u'Seattle', u'WA', 2013, u'July', u'January'),\n",
       " (u'Portland', u'OR', 2013, u'July', u'December'),\n",
       " (u'San Francisco', u'CA', 2013, u'September', u'December'),\n",
       " (u'Los Angeles', u'CA', 2013, u'September', u'December'),\n",
       " (u'Washington', u'DC', 2013, u'July', u'January'),\n",
       " (u'Houston', u'TX', 2013, u'July', u'January')]"
      ]
     },
     "execution_count": 206,
     "metadata": {},
     "output_type": "execute_result"
    }
   ],
   "source": [
    "query='''SELECT DISTINCT name, state, year, warm_month, cold_month \n",
    "        FROM cities \n",
    "        INNER JOIN weather \n",
    "            ON name = city;\n",
    "'''\n",
    "cur.execute(query).fetchall()"
   ]
  },
  {
   "cell_type": "code",
   "execution_count": 226,
   "metadata": {
    "collapsed": false
   },
   "outputs": [
    {
     "data": {
      "text/plain": [
       "[(u'CA', 69.5),\n",
       " (u'DC', 65.0),\n",
       " (u'FL', 84.0),\n",
       " (u'IL', 59.0),\n",
       " (u'MA', 59.0),\n",
       " (u'NY', 62.0),\n",
       " (u'OR', 63.0),\n",
       " (u'TX', 70.33),\n",
       " (u'WA', 61.0)]"
      ]
     },
     "execution_count": 226,
     "metadata": {},
     "output_type": "execute_result"
    }
   ],
   "source": [
    "cur.execute(\"SELECT state, ROUND(AVG(average_high),2) FROM weather INNER JOIN cities on city=name GROUP BY state;\").fetchall()"
   ]
  },
  {
   "cell_type": "code",
   "execution_count": 230,
   "metadata": {
    "collapsed": false
   },
   "outputs": [
    {
     "name": "stdout",
     "output_type": "stream",
     "text": [
      "[(u'August', 84.0), (u'July', 65.78571428571429), (u'September', 69.5)]\n",
      "\n",
      "[(u'Boston', 59), (u'Chicago', 59), (u'Seattle', 61), (u'New York City', 62), (u'Portland', 63), (u'San Francisco', 64), (u'Washington', 65), (u'Washington', 65), (u'Washington', 65), (u'Washington', 65), (u'Houston', 70), (u'Houston', 70), (u'Houston', 70), (u'Houston', 70), (u'Los Angeles', 75), (u'Dallas', 77), (u'Miami', 84)]\n",
      "\n",
      "[(u'Miami', 84), (u'Dallas', 77), (u'Los Angeles', 75), (u'Houston', 70), (u'Houston', 70), (u'Houston', 70), (u'Houston', 70), (u'Washington', 65), (u'Washington', 65), (u'Washington', 65), (u'Washington', 65), (u'San Francisco', 64), (u'Portland', 63), (u'New York City', 62), (u'Seattle', 61), (u'Boston', 59), (u'Chicago', 59)]\n",
      "\n",
      "[(u'FL', 84.0), (u'TX', 70.33), (u'CA', 69.5), (u'DC', 65.0), (u'OR', 63.0), (u'NY', 62.0), (u'WA', 61.0), (u'IL', 59.0), (u'MA', 59.0)]\n"
     ]
    }
   ],
   "source": [
    "print cur.execute(\"SELECT warm_month, AVG(average_high) FROM weather GROUP BY warm_month;\").fetchall()\n",
    "print\n",
    "print cur.execute(\"SELECT city, average_high FROM weather ORDER BY average_high;\").fetchall()\n",
    "print\n",
    "print cur.execute(\"SELECT city, average_high FROM weather ORDER BY average_high DESC;\").fetchall()\n",
    "print\n",
    "print cur.execute(\"SELECT state, ROUND(AVG(average_high),2) FROM weather INNER JOIN cities on city=name GROUP BY state ORDER BY AVG(average_high) DESC;\").fetchall()\n"
   ]
  },
  {
   "cell_type": "code",
   "execution_count": 231,
   "metadata": {
    "collapsed": false
   },
   "outputs": [
    {
     "name": "stdout",
     "output_type": "stream",
     "text": [
      "[(u'August', 84.0), (u'July', 65.78571428571429), (u'September', 69.5)]\n",
      "\n",
      "[(u'FL', 84.0), (u'TX', 70.33), (u'CA', 69.5)]\n"
     ]
    }
   ],
   "source": [
    "\n",
    "print cur.execute(\"SELECT warm_month, AVG(average_high) FROM weather GROUP BY warm_month HAVING AVG(average_high) > 65;\").fetchall()\n",
    "print\n",
    "print cur.execute(\"SELECT state, ROUND(AVG(average_high),2) FROM weather INNER JOIN cities on city=name GROUP BY state HAVING AVG(average_high)>65 ORDER BY AVG(average_high) DESC;\").fetchall()\n"
   ]
  },
  {
   "cell_type": "markdown",
   "metadata": {
    "collapsed": true
   },
   "source": [
    "###EXTRA: SQL to Pandas Comparison"
   ]
  },
  {
   "cell_type": "markdown",
   "metadata": {
    "collapsed": true
   },
   "source": [
    "http://pandas.pydata.org/pandas-docs/stable/comparison_with_sql.html"
   ]
  },
  {
   "cell_type": "code",
   "execution_count": null,
   "metadata": {
    "collapsed": true
   },
   "outputs": [],
   "source": []
  },
  {
   "cell_type": "code",
   "execution_count": null,
   "metadata": {
    "collapsed": true
   },
   "outputs": [],
   "source": []
  },
  {
   "cell_type": "code",
   "execution_count": null,
   "metadata": {
    "collapsed": true
   },
   "outputs": [],
   "source": []
  },
  {
   "cell_type": "code",
   "execution_count": null,
   "metadata": {
    "collapsed": true
   },
   "outputs": [],
   "source": []
  },
  {
   "cell_type": "code",
   "execution_count": null,
   "metadata": {
    "collapsed": true
   },
   "outputs": [],
   "source": []
  }
 ],
 "metadata": {
  "kernelspec": {
   "display_name": "Python 2",
   "language": "python",
   "name": "python2"
  },
  "language_info": {
   "codemirror_mode": {
    "name": "ipython",
    "version": 2
   },
   "file_extension": ".py",
   "mimetype": "text/x-python",
   "name": "python",
   "nbconvert_exporter": "python",
   "pygments_lexer": "ipython2",
   "version": "2.7.6"
  }
 },
 "nbformat": 4,
 "nbformat_minor": 0
}
