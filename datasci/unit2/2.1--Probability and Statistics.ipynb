{
 "cells": [
  {
   "cell_type": "code",
   "execution_count": 1,
   "metadata": {
    "collapsed": false
   },
   "outputs": [
    {
     "name": "stdout",
     "output_type": "stream",
     "text": [
      "Populating the interactive namespace from numpy and matplotlib\n"
     ]
    }
   ],
   "source": [
    "pylab inline"
   ]
  },
  {
   "cell_type": "markdown",
   "metadata": {},
   "source": [
    "##Descriptive Statistics"
   ]
  },
  {
   "cell_type": "code",
   "execution_count": 266,
   "metadata": {
    "collapsed": true
   },
   "outputs": [],
   "source": [
    "import pandas as pd\n",
    "from StringIO import StringIO\n",
    "import seaborn as sns\n",
    "sns.set_style('white')"
   ]
  },
  {
   "cell_type": "code",
   "execution_count": 270,
   "metadata": {
    "collapsed": false
   },
   "outputs": [],
   "source": [
    "data = '''Region,Alcohol,Tobacco\n",
    "North, 6.47, 4.03\n",
    "Yorkshire, 6.13, 3.76\n",
    "Northeast, 6.19, 3.77\n",
    "East Midlands, 4.89, 3.34\n",
    "West Midlands, 5.63, 3.47\n",
    "East Anglia, 4.52, 2.92\n",
    "Southeast, 5.89, 3.20\n",
    "Southwest, 4.79, 2.71\n",
    "Wales, 5.27, 3.53\n",
    "Scotland, 6.08, 4.51\n",
    "Northern Ireland, 4.02, 4.56'''\n",
    "df=pd.read_csv(StringIO(data))"
   ]
  },
  {
   "cell_type": "markdown",
   "metadata": {},
   "source": [
    "#### central tendency"
   ]
  },
  {
   "cell_type": "code",
   "execution_count": 271,
   "metadata": {
    "collapsed": false
   },
   "outputs": [
    {
     "name": "stdout",
     "output_type": "stream",
     "text": [
      "5.44363636364\n",
      "5.63\n",
      "Series([], dtype: float64)\n"
     ]
    }
   ],
   "source": [
    "print df['Alcohol'].mean()\n",
    "print df['Alcohol'].median()\n",
    "print df['Alcohol'].mode()"
   ]
  },
  {
   "cell_type": "markdown",
   "metadata": {},
   "source": [
    "####variability"
   ]
  },
  {
   "cell_type": "code",
   "execution_count": 272,
   "metadata": {
    "collapsed": false
   },
   "outputs": [
    {
     "name": "stdout",
     "output_type": "stream",
     "text": [
      "3.61818181818\n",
      "3.53\n",
      "Series([], dtype: float64)\n"
     ]
    }
   ],
   "source": [
    "print df['Tobacco'].mean()\n",
    "print df['Tobacco'].median()\n",
    "print df['Tobacco'].mode()"
   ]
  },
  {
   "cell_type": "code",
   "execution_count": 273,
   "metadata": {
    "collapsed": false
   },
   "outputs": [
    {
     "name": "stdout",
     "output_type": "stream",
     "text": [
      "2.45 0.797762780873 0.636425454545\n",
      "1.85 0.590708357514 0.348936363636\n"
     ]
    }
   ],
   "source": [
    "print max(df['Alcohol']) - min(df['Alcohol']), df['Alcohol'].std(), df['Alcohol'].var() \n",
    "\n",
    "print max(df['Tobacco']) - min(df['Tobacco']), df['Tobacco'].std(), df['Tobacco'].var() "
   ]
  },
  {
   "cell_type": "markdown",
   "metadata": {},
   "source": [
    "The citizens of Utopia work an average (mean) of 251 days per year, with a standard deviation of 20 days. How many days correspond to a z-score of 2.3?"
   ]
  },
  {
   "cell_type": "code",
   "execution_count": 274,
   "metadata": {
    "collapsed": false
   },
   "outputs": [
    {
     "data": {
      "text/plain": [
       "297.0"
      ]
     },
     "execution_count": 274,
     "metadata": {},
     "output_type": "execute_result"
    }
   ],
   "source": [
    "#2.3 = (x-251) / 20 \n",
    "251 + (2.3 * 20)"
   ]
  },
  {
   "cell_type": "code",
   "execution_count": 1,
   "metadata": {
    "collapsed": false
   },
   "outputs": [
    {
     "name": "stdout",
     "output_type": "stream",
     "text": [
      "Overwriting scripts/stats.py\n"
     ]
    }
   ],
   "source": [
    "%%writefile scripts/stats.py\n",
    "\n",
    "import pandas as pd\n",
    "from StringIO import StringIO\n",
    "import sys\n",
    "import exceptions\n",
    "import numpy as np\n",
    "\n",
    "def load_data(csvstring):\n",
    "    '''load csv string into pandas dataframe'''\n",
    "    return pd.read_csv(StringIO(csvstring))\n",
    "\n",
    "def describe_center(df, substance):\n",
    "    '''describe measures of central tendency for substance'''\n",
    "    print \"Measures of Central Tendency\"\n",
    "    print \"The mean for {0} is {1:.2f}\".format(substance, df[substance].mean())\n",
    "    print \"The median for {0} is {1:.2f}\".format(substance, df[substance].median())\n",
    "    mode=df[substance].mode()\n",
    "    if len(mode)>0:\n",
    "        mode=', '.join([str(val) for val in mode])\n",
    "    else:\n",
    "        mode=\"non-existent\"\n",
    "    print \"The mode for {0} is {1}\\n\".format(substance, mode)\n",
    "    \n",
    "def describe_variability(df, substance):\n",
    "    '''describe measures of variability for substance'''\n",
    "    print \"Measures of Variability\"\n",
    "    print \"The range for {0} is {1:.2f}\".format(substance, max(df[substance]) - min(df[substance]))\n",
    "    print \"The standard deviation for {0} is {1:.2f}\".format(substance, df[substance].std())\n",
    "    print \"The variance for {0} is {1:.2f}\\n\".format(substance, df[substance].var())\n",
    "    \n",
    "\n",
    "if __name__==\"__main__\":\n",
    "    \n",
    "    csvstring = '''Region,Alcohol,Tobacco\n",
    "    North, 6.47, 4.03\n",
    "    Yorkshire, 6.13, 3.76\n",
    "    Northeast, 6.19, 3.77\n",
    "    East Midlands, 4.89, 3.34\n",
    "    West Midlands, 5.63, 3.47\n",
    "    East Anglia, 4.52, 2.92\n",
    "    Southeast, 5.89, 3.20\n",
    "    Southwest, 4.79, 2.71\n",
    "    Wales, 5.27, 3.53\n",
    "    Scotland, 6.08, 4.51\n",
    "    Northern Ireland, 4.02, 4.56'''\n",
    "    \n",
    "    data=load_data(csvstring)\n",
    "    columns=[col for col in data.columns if data[col].dtype==np.float64]\n",
    "\n",
    "    if len(sys.argv)==1:\n",
    "        substance=str(raw_input(\"Which substance: {}?\\n\".format(', '.join(columns))))\n",
    "    else:\n",
    "        substance=sys.argv[1]\n",
    "    try:\n",
    "        check=columns.index(substance)\n",
    "    except exceptions.ValueError:\n",
    "        check=None\n",
    "        print \"Substance not found in data set\"\n",
    "    if check is not None:\n",
    "        describe_center(data, substance)\n",
    "        describe_variability(data, substance)"
   ]
  },
  {
   "cell_type": "markdown",
   "metadata": {
    "collapsed": true
   },
   "source": [
    "##Probability"
   ]
  },
  {
   "cell_type": "markdown",
   "metadata": {},
   "source": [
    "What is the probability that two dice will both come up 5? (independent)"
   ]
  },
  {
   "cell_type": "code",
   "execution_count": 276,
   "metadata": {
    "collapsed": false
   },
   "outputs": [
    {
     "data": {
      "text/plain": [
       "0.027777777777777776"
      ]
     },
     "execution_count": 276,
     "metadata": {},
     "output_type": "execute_result"
    }
   ],
   "source": [
    "(1.0/6)*(1.0/6)"
   ]
  },
  {
   "cell_type": "markdown",
   "metadata": {},
   "source": [
    "Imagine instead that you have one loaded die and one fair die. The loaded die is twice as likely to come up 5 as the fair die. Now what is the probability that the two dice will both come up 5?"
   ]
  },
  {
   "cell_type": "code",
   "execution_count": 277,
   "metadata": {
    "collapsed": false
   },
   "outputs": [
    {
     "data": {
      "text/plain": [
       "0.05555555555555555"
      ]
     },
     "execution_count": 277,
     "metadata": {},
     "output_type": "execute_result"
    }
   ],
   "source": [
    "(2.0/6)*(1.0/6)"
   ]
  },
  {
   "cell_type": "markdown",
   "metadata": {},
   "source": [
    "What is the space of possible events S for rolling two dice?"
   ]
  },
  {
   "cell_type": "code",
   "execution_count": 312,
   "metadata": {
    "collapsed": false
   },
   "outputs": [
    {
     "name": "stdout",
     "output_type": "stream",
     "text": [
      "[(1, 1), (1, 2), (1, 3), (1, 4), (1, 5), (1, 6), (2, 1), (2, 2), (2, 3), (2, 4), (2, 5), (2, 6), (3, 1), (3, 2), (3, 3), (3, 4), (3, 5), (3, 6), (4, 1), (4, 2), (4, 3), (4, 4), (4, 5), (4, 6), (5, 1), (5, 2), (5, 3), (5, 4), (5, 5), (5, 6), (6, 1), (6, 2), (6, 3), (6, 4), (6, 5), (6, 6)]\n",
      "36\n"
     ]
    }
   ],
   "source": [
    "import itertools\n",
    "crossproduct=[array for array in itertools.product(range(1,7), range(1,7))]\n",
    "print crossproduct\n",
    "print len(crossproduct)\n"
   ]
  },
  {
   "cell_type": "markdown",
   "metadata": {},
   "source": [
    "If our first die is fair and our second die is loaded so that the probability that it comes up 5 is 3/8 and the probability that it comes up any other number is 1/8, what is the probability associated with each s in S?"
   ]
  },
  {
   "cell_type": "code",
   "execution_count": 323,
   "metadata": {
    "collapsed": false
   },
   "outputs": [
    {
     "name": "stdout",
     "output_type": "stream",
     "text": [
      "6 outcomes with unfair 5\n",
      "p=0.062\n",
      "30 other outcomes (loaded die not five)\n",
      "p=0.021\n",
      "sum of probabilities in set sums to 1.0\n"
     ]
    }
   ],
   "source": [
    "print \"6 outcomes with unfair 5\"\n",
    "five=1.0/6*3.0/8\n",
    "print \"p=%.3f\" %five\n",
    "print \"30 other outcomes (loaded die not five)\"\n",
    "nonfive=1.0/6*1.0/8\n",
    "print \"p=%.3f\" %nonfive\n",
    "print \"sum of probabilities in set sums to %s\" %(five*6+nonfive*30)"
   ]
  },
  {
   "cell_type": "markdown",
   "metadata": {},
   "source": [
    "####basic probability distributions"
   ]
  },
  {
   "cell_type": "code",
   "execution_count": 278,
   "metadata": {
    "collapsed": false
   },
   "outputs": [],
   "source": [
    "import numpy as np"
   ]
  },
  {
   "cell_type": "code",
   "execution_count": 329,
   "metadata": {
    "collapsed": false
   },
   "outputs": [
    {
     "data": {
      "text/plain": [
       "[<matplotlib.lines.Line2D at 0x10790c350>]"
      ]
     },
     "execution_count": 329,
     "metadata": {},
     "output_type": "execute_result"
    },
    {
     "data": {
      "image/png": "[encoded data removed]",
      "text/plain": [
       "<matplotlib.figure.Figure at 0x1089aa550>"
      ]
     },
     "metadata": {},
     "output_type": "display_data"
    }
   ],
   "source": [
    "mean = 0\n",
    "sigma = 1\n",
    "x = np.linspace(-8,8,100)\n",
    "plt.plot(x, mlab.normpdf(x,mean,sigma))\n",
    "sigma = 2\n",
    "plt.plot(x, mlab.normpdf(x,mean,sigma))"
   ]
  },
  {
   "cell_type": "code",
   "execution_count": null,
   "metadata": {
    "collapsed": true
   },
   "outputs": [],
   "source": []
  }
 ],
 "metadata": {
  "kernelspec": {
   "display_name": "Python 2",
   "language": "python",
   "name": "python2"
  },
  "language_info": {
   "codemirror_mode": {
    "name": "ipython",
    "version": 2
   },
   "file_extension": ".py",
   "mimetype": "text/x-python",
   "name": "python",
   "nbconvert_exporter": "python",
   "pygments_lexer": "ipython2",
   "version": "2.7.6"
  }
 },
 "nbformat": 4,
 "nbformat_minor": 0
}
