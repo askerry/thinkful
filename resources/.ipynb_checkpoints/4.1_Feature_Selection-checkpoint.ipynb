{
 "cells": [
  {
   "cell_type": "markdown",
   "metadata": {},
   "source": [
    "## Chapter 6: Feature Selection ##"
   ]
  },
  {
   "cell_type": "code",
   "execution_count": 1,
   "metadata": {
    "collapsed": false
   },
   "outputs": [],
   "source": [
    "from __future__ import division\n",
    "import pandas as pd\n",
    "import numpy as np\n",
    "import scipy as sp\n",
    "import matplotlib.pyplot as plt\n",
    "from sklearn.linear_model import LinearRegression\n",
    "from sklearn.linear_model import Ridge\n",
    "from sklearn.linear_model import Lasso\n",
    "from sklearn.feature_selection import SelectKBest\n",
    "from sklearn.feature_selection import f_regression\n",
    "from sklearn.metrics import mean_squared_error\n",
    "from sklearn.cross_validation import KFold\n",
    "%matplotlib inline"
   ]
  },
  {
   "cell_type": "code",
   "execution_count": 2,
   "metadata": {
    "collapsed": false
   },
   "outputs": [
    {
     "data": {
      "text/html": [
       "<div style=\"max-height:1000px;max-width:1500px;overflow:auto;\">\n",
       "<table border=\"1\" class=\"dataframe\">\n",
       "  <thead>\n",
       "    <tr style=\"text-align: right;\">\n",
       "      <th></th>\n",
       "      <th>AtBat</th>\n",
       "      <th>Hits</th>\n",
       "      <th>HmRun</th>\n",
       "      <th>Runs</th>\n",
       "      <th>RBI</th>\n",
       "      <th>Walks</th>\n",
       "      <th>Years</th>\n",
       "      <th>CAtBat</th>\n",
       "      <th>CHits</th>\n",
       "      <th>CHmRun</th>\n",
       "      <th>CRuns</th>\n",
       "      <th>CRBI</th>\n",
       "      <th>CWalks</th>\n",
       "      <th>League</th>\n",
       "      <th>Division</th>\n",
       "      <th>PutOuts</th>\n",
       "      <th>Assists</th>\n",
       "      <th>Errors</th>\n",
       "      <th>Salary</th>\n",
       "      <th>NewLeague</th>\n",
       "    </tr>\n",
       "  </thead>\n",
       "  <tbody>\n",
       "    <tr>\n",
       "      <th>1</th>\n",
       "      <td> 315</td>\n",
       "      <td>  81</td>\n",
       "      <td>  7</td>\n",
       "      <td> 24</td>\n",
       "      <td> 38</td>\n",
       "      <td> 39</td>\n",
       "      <td> 14</td>\n",
       "      <td> 3449</td>\n",
       "      <td>  835</td>\n",
       "      <td>  69</td>\n",
       "      <td> 321</td>\n",
       "      <td> 414</td>\n",
       "      <td> 375</td>\n",
       "      <td> N</td>\n",
       "      <td> W</td>\n",
       "      <td> 632</td>\n",
       "      <td>  43</td>\n",
       "      <td> 10</td>\n",
       "      <td> 475.0</td>\n",
       "      <td> N</td>\n",
       "    </tr>\n",
       "    <tr>\n",
       "      <th>2</th>\n",
       "      <td> 479</td>\n",
       "      <td> 130</td>\n",
       "      <td> 18</td>\n",
       "      <td> 66</td>\n",
       "      <td> 72</td>\n",
       "      <td> 76</td>\n",
       "      <td>  3</td>\n",
       "      <td> 1624</td>\n",
       "      <td>  457</td>\n",
       "      <td>  63</td>\n",
       "      <td> 224</td>\n",
       "      <td> 266</td>\n",
       "      <td> 263</td>\n",
       "      <td> A</td>\n",
       "      <td> W</td>\n",
       "      <td> 880</td>\n",
       "      <td>  82</td>\n",
       "      <td> 14</td>\n",
       "      <td> 480.0</td>\n",
       "      <td> A</td>\n",
       "    </tr>\n",
       "    <tr>\n",
       "      <th>3</th>\n",
       "      <td> 496</td>\n",
       "      <td> 141</td>\n",
       "      <td> 20</td>\n",
       "      <td> 65</td>\n",
       "      <td> 78</td>\n",
       "      <td> 37</td>\n",
       "      <td> 11</td>\n",
       "      <td> 5628</td>\n",
       "      <td> 1575</td>\n",
       "      <td> 225</td>\n",
       "      <td> 828</td>\n",
       "      <td> 838</td>\n",
       "      <td> 354</td>\n",
       "      <td> N</td>\n",
       "      <td> E</td>\n",
       "      <td> 200</td>\n",
       "      <td>  11</td>\n",
       "      <td>  3</td>\n",
       "      <td> 500.0</td>\n",
       "      <td> N</td>\n",
       "    </tr>\n",
       "    <tr>\n",
       "      <th>4</th>\n",
       "      <td> 321</td>\n",
       "      <td>  87</td>\n",
       "      <td> 10</td>\n",
       "      <td> 39</td>\n",
       "      <td> 42</td>\n",
       "      <td> 30</td>\n",
       "      <td>  2</td>\n",
       "      <td>  396</td>\n",
       "      <td>  101</td>\n",
       "      <td>  12</td>\n",
       "      <td>  48</td>\n",
       "      <td>  46</td>\n",
       "      <td>  33</td>\n",
       "      <td> N</td>\n",
       "      <td> E</td>\n",
       "      <td> 805</td>\n",
       "      <td>  40</td>\n",
       "      <td>  4</td>\n",
       "      <td>  91.5</td>\n",
       "      <td> N</td>\n",
       "    </tr>\n",
       "    <tr>\n",
       "      <th>5</th>\n",
       "      <td> 594</td>\n",
       "      <td> 169</td>\n",
       "      <td>  4</td>\n",
       "      <td> 74</td>\n",
       "      <td> 51</td>\n",
       "      <td> 35</td>\n",
       "      <td> 11</td>\n",
       "      <td> 4408</td>\n",
       "      <td> 1133</td>\n",
       "      <td>  19</td>\n",
       "      <td> 501</td>\n",
       "      <td> 336</td>\n",
       "      <td> 194</td>\n",
       "      <td> A</td>\n",
       "      <td> W</td>\n",
       "      <td> 282</td>\n",
       "      <td> 421</td>\n",
       "      <td> 25</td>\n",
       "      <td> 750.0</td>\n",
       "      <td> A</td>\n",
       "    </tr>\n",
       "  </tbody>\n",
       "</table>\n",
       "<p>5 rows × 20 columns</p>\n",
       "</div>"
      ],
      "text/plain": [
       "   AtBat  Hits  HmRun  Runs  RBI  Walks  Years  CAtBat  CHits  CHmRun  CRuns  \\\n",
       "1    315    81      7    24   38     39     14    3449    835      69    321   \n",
       "2    479   130     18    66   72     76      3    1624    457      63    224   \n",
       "3    496   141     20    65   78     37     11    5628   1575     225    828   \n",
       "4    321    87     10    39   42     30      2     396    101      12     48   \n",
       "5    594   169      4    74   51     35     11    4408   1133      19    501   \n",
       "\n",
       "   CRBI  CWalks League Division  PutOuts  Assists  Errors  Salary NewLeague  \n",
       "1   414     375      N        W      632       43      10   475.0         N  \n",
       "2   266     263      A        W      880       82      14   480.0         A  \n",
       "3   838     354      N        E      200       11       3   500.0         N  \n",
       "4    46      33      N        E      805       40       4    91.5         N  \n",
       "5   336     194      A        W      282      421      25   750.0         A  \n",
       "\n",
       "[5 rows x 20 columns]"
      ]
     },
     "execution_count": 2,
     "metadata": {},
     "output_type": "execute_result"
    }
   ],
   "source": [
    "hitters_df = pd.read_csv(\"../data/Hitters.csv\")\n",
    "hitters_df.dropna(inplace=True)\n",
    "hitters_df.head()"
   ]
  },
  {
   "cell_type": "markdown",
   "metadata": {},
   "source": [
    "Objective is to predict the hitter's salary given other variables. Because this is a regression problem, we first need to convert the non-numeric input variables to factors."
   ]
  },
  {
   "cell_type": "code",
   "execution_count": 3,
   "metadata": {
    "collapsed": false
   },
   "outputs": [
    {
     "data": {
      "text/html": [
       "<div style=\"max-height:1000px;max-width:1500px;overflow:auto;\">\n",
       "<table border=\"1\" class=\"dataframe\">\n",
       "  <thead>\n",
       "    <tr style=\"text-align: right;\">\n",
       "      <th></th>\n",
       "      <th>AtBat</th>\n",
       "      <th>Hits</th>\n",
       "      <th>HmRun</th>\n",
       "      <th>Runs</th>\n",
       "      <th>RBI</th>\n",
       "      <th>Walks</th>\n",
       "      <th>Years</th>\n",
       "      <th>CAtBat</th>\n",
       "      <th>CHits</th>\n",
       "      <th>CHmRun</th>\n",
       "      <th>CRuns</th>\n",
       "      <th>CRBI</th>\n",
       "      <th>CWalks</th>\n",
       "      <th>League</th>\n",
       "      <th>Division</th>\n",
       "      <th>PutOuts</th>\n",
       "      <th>Assists</th>\n",
       "      <th>Errors</th>\n",
       "      <th>Salary</th>\n",
       "      <th>NewLeague</th>\n",
       "    </tr>\n",
       "  </thead>\n",
       "  <tbody>\n",
       "    <tr>\n",
       "      <th>1</th>\n",
       "      <td> 315</td>\n",
       "      <td>  81</td>\n",
       "      <td>  7</td>\n",
       "      <td> 24</td>\n",
       "      <td> 38</td>\n",
       "      <td> 39</td>\n",
       "      <td> 14</td>\n",
       "      <td> 3449</td>\n",
       "      <td>  835</td>\n",
       "      <td>  69</td>\n",
       "      <td> 321</td>\n",
       "      <td> 414</td>\n",
       "      <td> 375</td>\n",
       "      <td> 0</td>\n",
       "      <td> 0</td>\n",
       "      <td> 632</td>\n",
       "      <td>  43</td>\n",
       "      <td> 10</td>\n",
       "      <td> 475.0</td>\n",
       "      <td> 0</td>\n",
       "    </tr>\n",
       "    <tr>\n",
       "      <th>2</th>\n",
       "      <td> 479</td>\n",
       "      <td> 130</td>\n",
       "      <td> 18</td>\n",
       "      <td> 66</td>\n",
       "      <td> 72</td>\n",
       "      <td> 76</td>\n",
       "      <td>  3</td>\n",
       "      <td> 1624</td>\n",
       "      <td>  457</td>\n",
       "      <td>  63</td>\n",
       "      <td> 224</td>\n",
       "      <td> 266</td>\n",
       "      <td> 263</td>\n",
       "      <td> 1</td>\n",
       "      <td> 0</td>\n",
       "      <td> 880</td>\n",
       "      <td>  82</td>\n",
       "      <td> 14</td>\n",
       "      <td> 480.0</td>\n",
       "      <td> 1</td>\n",
       "    </tr>\n",
       "    <tr>\n",
       "      <th>3</th>\n",
       "      <td> 496</td>\n",
       "      <td> 141</td>\n",
       "      <td> 20</td>\n",
       "      <td> 65</td>\n",
       "      <td> 78</td>\n",
       "      <td> 37</td>\n",
       "      <td> 11</td>\n",
       "      <td> 5628</td>\n",
       "      <td> 1575</td>\n",
       "      <td> 225</td>\n",
       "      <td> 828</td>\n",
       "      <td> 838</td>\n",
       "      <td> 354</td>\n",
       "      <td> 0</td>\n",
       "      <td> 1</td>\n",
       "      <td> 200</td>\n",
       "      <td>  11</td>\n",
       "      <td>  3</td>\n",
       "      <td> 500.0</td>\n",
       "      <td> 0</td>\n",
       "    </tr>\n",
       "    <tr>\n",
       "      <th>4</th>\n",
       "      <td> 321</td>\n",
       "      <td>  87</td>\n",
       "      <td> 10</td>\n",
       "      <td> 39</td>\n",
       "      <td> 42</td>\n",
       "      <td> 30</td>\n",
       "      <td>  2</td>\n",
       "      <td>  396</td>\n",
       "      <td>  101</td>\n",
       "      <td>  12</td>\n",
       "      <td>  48</td>\n",
       "      <td>  46</td>\n",
       "      <td>  33</td>\n",
       "      <td> 0</td>\n",
       "      <td> 1</td>\n",
       "      <td> 805</td>\n",
       "      <td>  40</td>\n",
       "      <td>  4</td>\n",
       "      <td>  91.5</td>\n",
       "      <td> 0</td>\n",
       "    </tr>\n",
       "    <tr>\n",
       "      <th>5</th>\n",
       "      <td> 594</td>\n",
       "      <td> 169</td>\n",
       "      <td>  4</td>\n",
       "      <td> 74</td>\n",
       "      <td> 51</td>\n",
       "      <td> 35</td>\n",
       "      <td> 11</td>\n",
       "      <td> 4408</td>\n",
       "      <td> 1133</td>\n",
       "      <td>  19</td>\n",
       "      <td> 501</td>\n",
       "      <td> 336</td>\n",
       "      <td> 194</td>\n",
       "      <td> 1</td>\n",
       "      <td> 0</td>\n",
       "      <td> 282</td>\n",
       "      <td> 421</td>\n",
       "      <td> 25</td>\n",
       "      <td> 750.0</td>\n",
       "      <td> 1</td>\n",
       "    </tr>\n",
       "  </tbody>\n",
       "</table>\n",
       "<p>5 rows × 20 columns</p>\n",
       "</div>"
      ],
      "text/plain": [
       "   AtBat  Hits  HmRun  Runs  RBI  Walks  Years  CAtBat  CHits  CHmRun  CRuns  \\\n",
       "1    315    81      7    24   38     39     14    3449    835      69    321   \n",
       "2    479   130     18    66   72     76      3    1624    457      63    224   \n",
       "3    496   141     20    65   78     37     11    5628   1575     225    828   \n",
       "4    321    87     10    39   42     30      2     396    101      12     48   \n",
       "5    594   169      4    74   51     35     11    4408   1133      19    501   \n",
       "\n",
       "   CRBI  CWalks  League  Division  PutOuts  Assists  Errors  Salary  NewLeague  \n",
       "1   414     375       0         0      632       43      10   475.0          0  \n",
       "2   266     263       1         0      880       82      14   480.0          1  \n",
       "3   838     354       0         1      200       11       3   500.0          0  \n",
       "4    46      33       0         1      805       40       4    91.5          0  \n",
       "5   336     194       1         0      282      421      25   750.0          1  \n",
       "\n",
       "[5 rows x 20 columns]"
      ]
     },
     "execution_count": 3,
     "metadata": {},
     "output_type": "execute_result"
    }
   ],
   "source": [
    "# Converting non-numeric input variables to factors.\n",
    "hitters_df[\"League\"] = pd.factorize(hitters_df[\"League\"])[0]\n",
    "hitters_df[\"Division\"] = pd.factorize(hitters_df[\"Division\"])[0]\n",
    "hitters_df[\"NewLeague\"] = pd.factorize(hitters_df[\"NewLeague\"])[0]\n",
    "hitters_df.head()"
   ]
  },
  {
   "cell_type": "code",
   "execution_count": 4,
   "metadata": {
    "collapsed": false
   },
   "outputs": [
    {
     "data": {
      "text/plain": [
       "303.34447253531613"
      ]
     },
     "execution_count": 4,
     "metadata": {},
     "output_type": "execute_result"
    }
   ],
   "source": [
    "# construct a baseline regressor with all features\n",
    "collist = [col for col in hitters_df.columns if col != \"Salary\"]\n",
    "X = hitters_df[collist]\n",
    "y = hitters_df[\"Salary\"]\n",
    "reg = LinearRegression()\n",
    "reg.fit(X, y)\n",
    "ypred = reg.predict(X)\n",
    "np.sqrt(mean_squared_error(ypred, y))"
   ]
  },
  {
   "cell_type": "markdown",
   "metadata": {},
   "source": [
    "### Best Subset Regression ###\n",
    "\n",
    "Scikit-Learn offers the SelectKBest method to find the best features using a greedy search."
   ]
  },
  {
   "cell_type": "code",
   "execution_count": 5,
   "metadata": {
    "collapsed": false
   },
   "outputs": [
    {
     "data": {
      "text/plain": [
       "<matplotlib.text.Text at 0x4a0cad0>"
      ]
     },
     "execution_count": 5,
     "metadata": {},
     "output_type": "execute_result"
    },
    {
     "data": {
      "image/png": "[encoded data removed]",
      "text/plain": [
       "<matplotlib.figure.Figure at 0x49f1ad0>"
      ]
     },
     "metadata": {},
     "output_type": "display_data"
    }
   ],
   "source": [
    "mses = []\n",
    "nfeatures = range(1, len(collist))\n",
    "for nfeature in nfeatures:\n",
    "    # compute MSE for different values of k (top features)\n",
    "    selector = SelectKBest(f_regression, k=nfeature)\n",
    "    selector.fit(X, y)\n",
    "    selected = selector.get_support()\n",
    "    feats = [col for (col,sel) in zip(collist, selected) if sel]\n",
    "    reg = LinearRegression()\n",
    "    X_r = hitters_df[feats]\n",
    "    reg.fit(X_r, y)\n",
    "    ypred = reg.predict(X_r)\n",
    "    mses.append(np.sqrt(mean_squared_error(ypred, y)))\n",
    "plt.plot(nfeatures, mses)\n",
    "plt.xlabel(\"k\")\n",
    "plt.ylabel(\"RMSE\")"
   ]
  },
  {
   "cell_type": "markdown",
   "metadata": {},
   "source": [
    "### Model Selection by Cross-Validation ###\n",
    "\n",
    "The RMSE falls as the number of features increase - this is expected because we are computing the RMSE off the training set (overfitting). We will now use 10-fold cross validation on each model to calculate a cross-validation MSE which will give us a better idea of the best feature size to use for the problem."
   ]
  },
  {
   "cell_type": "code",
   "execution_count": 6,
   "metadata": {
    "collapsed": false
   },
   "outputs": [
    {
     "data": {
      "text/plain": [
       "<matplotlib.text.Text at 0x4c84710>"
      ]
     },
     "execution_count": 6,
     "metadata": {},
     "output_type": "execute_result"
    },
    {
     "data": {
      "image/png": "[encoded data removed]",
      "text/plain": [
       "<matplotlib.figure.Figure at 0x4c75090>"
      ]
     },
     "metadata": {},
     "output_type": "display_data"
    }
   ],
   "source": [
    "cv_errors = []\n",
    "kfold = KFold(len(hitters_df), n_folds=10)\n",
    "nfeatures = range(1, len(collist))\n",
    "for nfeature in nfeatures:\n",
    "    # build model with varying number of features\n",
    "    selector = SelectKBest(f_regression, k=nfeature)\n",
    "    selector.fit(X, y)\n",
    "    selected = selector.get_support()\n",
    "    feats = [col for (col,sel) in zip(collist, selected) if sel]\n",
    "    X_r = hitters_df[feats].values\n",
    "    y = hitters_df[\"Salary\"].values\n",
    "    rmses = []\n",
    "    for train, test in kfold:\n",
    "        # each model is cross validated 10 times\n",
    "        Xtrain, ytrain, Xtest, ytest = X_r[train], y[train], X_r[test], y[test]   \n",
    "        reg = LinearRegression()\n",
    "        reg.fit(Xtrain, ytrain)\n",
    "        ypred = reg.predict(Xtest)\n",
    "        rmses.append(np.sqrt(mean_squared_error(ypred, ytest)))\n",
    "    cv_errors.append(np.mean(rmses))\n",
    "plt.plot(nfeatures, cv_errors)\n",
    "plt.xlabel(\"k\")\n",
    "plt.ylabel(\"RMSE\")"
   ]
  },
  {
   "cell_type": "markdown",
   "metadata": {},
   "source": [
    "### Ridge Regression and the Lasso ###\n",
    "\n",
    "These two methods improve the model by using all features but shrinking the coefficients. Ridge regression uses the L2-norm and Lasso regression uses the L1-norm. Here we use cross validation to compute the RMSE for a baseline model, a model regularized by Ridge regression and one regularized using Lasso."
   ]
  },
  {
   "cell_type": "code",
   "execution_count": 8,
   "metadata": {
    "collapsed": false
   },
   "outputs": [
    {
     "data": {
      "text/plain": [
       "(331.00425667935832, 330.72572506106593, 330.00460161612779)"
      ]
     },
     "execution_count": 8,
     "metadata": {},
     "output_type": "execute_result"
    }
   ],
   "source": [
    "def cross_validate(X, y, nfolds, reg_name):\n",
    "    rmses = []\n",
    "    kfold = KFold(X.shape[0], n_folds=nfolds)\n",
    "    for train, test in kfold:\n",
    "        Xtrain, ytrain, Xtest, ytest = X[train], y[train], X[test], y[test]\n",
    "        reg = None\n",
    "        if reg_name == \"ridge\":\n",
    "            reg = Ridge()\n",
    "        elif reg_name == \"lasso\":\n",
    "            reg = Lasso()\n",
    "        else:\n",
    "            reg = LinearRegression()\n",
    "        reg.fit(Xtrain, ytrain)\n",
    "        ypred = reg.predict(Xtest)\n",
    "        rmses.append(np.sqrt(mean_squared_error(ytest, ypred)))\n",
    "    return np.mean(rmses)\n",
    "\n",
    "collist = [col for col in hitters_df.columns if col != \"Salary\"]\n",
    "X = hitters_df[collist].values\n",
    "y = hitters_df[\"Salary\"].values\n",
    "rmse_baseline = cross_validate(X, y, 10, \"baseline\")\n",
    "rmse_ridge = cross_validate(X, y, 10, \"ridge\")\n",
    "rmse_lasso = cross_validate(X, y, 10, \"lasso\")\n",
    "(rmse_baseline, rmse_ridge, rmse_lasso)"
   ]
  },
  {
   "cell_type": "markdown",
   "metadata": {},
   "source": [
    "Finally, we attempt to find an optimum value of alpha for the Lasso regressor using cross-validation."
   ]
  },
  {
   "cell_type": "code",
   "execution_count": 9,
   "metadata": {
    "collapsed": false
   },
   "outputs": [
    {
     "data": {
      "text/plain": [
       "<matplotlib.text.Text at 0x4ef3590>"
      ]
     },
     "execution_count": 9,
     "metadata": {},
     "output_type": "execute_result"
    },
    {
     "data": {
      "image/png": "[encoded data removed]",
      "text/plain": [
       "<matplotlib.figure.Figure at 0x49a6cd0>"
      ]
     },
     "metadata": {},
     "output_type": "display_data"
    }
   ],
   "source": [
    "cv_errors = []\n",
    "alphas = [0.1 * alpha for alpha in range(1, 200, 20)]\n",
    "kfold = KFold(X.shape[0], n_folds=10)\n",
    "for alpha in alphas:\n",
    "    rmses = []\n",
    "    for train, test in kfold:\n",
    "        Xtrain, ytrain, Xtest, ytest = X[train], y[train], X[test], y[test]\n",
    "        reg = Lasso(alpha=alpha)\n",
    "        reg.fit(Xtrain, ytrain)\n",
    "        ypred = reg.predict(Xtest)\n",
    "        rmses.append(np.sqrt(mean_squared_error(ytest, ypred)))\n",
    "    cv_errors.append(np.mean(rmses))\n",
    "plt.plot(alphas, cv_errors)\n",
    "plt.xlabel(\"alpha\")\n",
    "plt.ylabel(\"RMSE\")"
   ]
  }
 ],
 "metadata": {
  "kernelspec": {
   "display_name": "Python 2",
   "language": "python",
   "name": "python2"
  },
  "language_info": {
   "codemirror_mode": {
    "name": "ipython",
    "version": 2
   },
   "file_extension": ".py",
   "mimetype": "text/x-python",
   "name": "python",
   "nbconvert_exporter": "python",
   "pygments_lexer": "ipython2",
   "version": "2.7.6"
  }
 },
 "nbformat": 4,
 "nbformat_minor": 0
}
